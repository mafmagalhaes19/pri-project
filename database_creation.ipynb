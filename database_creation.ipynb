{
 "cells": [
  {
   "cell_type": "code",
   "execution_count": 112,
   "metadata": {},
   "outputs": [
    {
     "name": "stdout",
     "output_type": "stream",
     "text": [
      "<class 'pandas.core.frame.DataFrame'>\n",
      "Int64Index: 75334 entries, 0 to 1593\n",
      "Data columns (total 8 columns):\n",
      " #   Column          Non-Null Count  Dtype  \n",
      "---  ------          --------------  -----  \n",
      " 0   name            75334 non-null  object \n",
      " 1   city            75334 non-null  object \n",
      " 2   ranking         75334 non-null  float64\n",
      " 3   rating          75334 non-null  float64\n",
      " 4   price_range     75334 non-null  object \n",
      " 5   reviews_number  75334 non-null  int64  \n",
      " 6   url_ta          75334 non-null  object \n",
      " 7   id_ta           75334 non-null  object \n",
      "dtypes: float64(2), int64(1), object(5)\n",
      "memory usage: 5.2+ MB\n"
     ]
    }
   ],
   "source": [
    "import pandas as pd\n",
    "\n",
    "restaurants_data  = pd.read_csv('restaurants_clean.csv', encoding='utf8', index_col=0)\n",
    "\n",
    "restaurants_data.info()"
   ]
  },
  {
   "cell_type": "code",
   "execution_count": 113,
   "metadata": {},
   "outputs": [
    {
     "name": "stdout",
     "output_type": "stream",
     "text": [
      "(('id', None, None, None, None, None, None), ('id_ta', None, None, None, None, None, None), ('comment', None, None, None, None, None, None), ('date', None, None, None, None, None, None))\n"
     ]
    }
   ],
   "source": [
    "import sqlite3\n",
    "\n",
    "conn = sqlite3.connect('restaurants_db.db')\n",
    "cursor = conn.cursor()\n",
    "\n",
    "cursor.execute('''\n",
    "          DROP TABLE IF EXISTS RESTAURANT\n",
    "          ''')\n",
    "\n",
    "cursor.execute('''\n",
    "          DROP TABLE IF EXISTS REVIEW\n",
    "          ''')\n",
    "\n",
    "cursor.execute('''\n",
    "          DROP TABLE IF EXISTS CUISINE_STYLE\n",
    "          ''')          \n",
    "\n",
    "cursor.execute('''\n",
    "          CREATE TABLE IF NOT EXISTS RESTAURANT\n",
    "          ([id] INTEGER, [name] TEXT NOT NULL, [city] NOT NULL, [url_ta] TEXT, [ranking] INTEGER, [rating] numeric(8,2), [price_range] TEXT, [num_reviews] INTEGER, [id_ta] TEXT UNIQUE, PRIMARY KEY ([id], [id_ta]))\n",
    "          ''')\n",
    "\n",
    "cursor.execute('''\n",
    "          CREATE TABLE IF NOT EXISTS REVIEW\n",
    "          ([id] INTEGER NOT NULL PRIMARY KEY, [id_ta] TEXT NOT NULL, [comment] TEXT NOT NULL, [date] TEXT, FOREIGN KEY(id_ta) REFERENCES RESTAURANT(id_ta))\n",
    "          ''')\n",
    "\n",
    "cursor.execute('''\n",
    "          CREATE TABLE IF NOT EXISTS CUISINE_STYLE\n",
    "          ([id] INTEGER NOT NULL PRIMARY KEY, [id_ta] TEXT NOT NULL, [name] TEXT NOT NULL, FOREIGN KEY(id_ta) REFERENCES RESTAURANT(id_ta))\n",
    "          ''')\n",
    "\n",
    "\n",
    "conn.commit()\n",
    "\n",
    "data=cursor.execute('''SELECT * FROM REVIEW''')\n",
    "print(data.description)\n",
    "\n",
    "#conn.close()"
   ]
  },
  {
   "cell_type": "code",
   "execution_count": 114,
   "metadata": {},
   "outputs": [],
   "source": [
    "#review_data  = pd.read_csv('reviews_table.csv', encoding='utf8', index_col=0)\n",
    "\n",
    "#cuisine_data = pd.read_csv('cuisine_style_table.csv', encoding='utf8', index_col=0)\n",
    "\n",
    "counter = 0\n",
    "for row in restaurants_data.itertuples():\n",
    "    cursor.execute('''\n",
    "                INSERT OR IGNORE INTO RESTAURANT (id, name, city, url_ta, ranking, rating, price_range, num_reviews, id_ta)\n",
    "                VALUES (?,?,?,?,?,?,?,?,?)\n",
    "                ''',(\n",
    "                counter, \n",
    "                row.name,\n",
    "                row.city,\n",
    "                row.url_ta,\n",
    "                row.ranking,\n",
    "                row.rating,\n",
    "                row.price_range,\n",
    "                row.reviews_number,\n",
    "                row.id_ta)\n",
    "                )\n",
    "    counter+=1\n",
    "conn.commit()"
   ]
  },
  {
   "cell_type": "code",
   "execution_count": 115,
   "metadata": {},
   "outputs": [
    {
     "name": "stdout",
     "output_type": "stream",
     "text": [
      "[(0, \"Martine of Martine's Table\", 'Amsterdam', 'https://www.tripadvisor.com/Restaurant_Review-g188590-d11752080-Reviews-Martine_of_Martine_s_Table-Amsterdam_North_Holland_Province.html', 1, 5, '$$ - $$$', 136, 'd11752080'), (1, 'De Silveren Spiegel', 'Amsterdam', 'https://www.tripadvisor.com/Restaurant_Review-g188590-d693419-Reviews-De_Silveren_Spiegel-Amsterdam_North_Holland_Province.html', 2, 4.5, '$$$$', 812, 'd693419'), (2, 'La Rive', 'Amsterdam', 'https://www.tripadvisor.com/Restaurant_Review-g188590-d696959-Reviews-La_Rive-Amsterdam_North_Holland_Province.html', 3, 4.5, '$$$$', 567, 'd696959'), (3, 'Vinkeles', 'Amsterdam', 'https://www.tripadvisor.com/Restaurant_Review-g188590-d1239229-Reviews-Vinkeles-Amsterdam_North_Holland_Province.html', 4, 5, '$$$$', 564, 'd1239229'), (4, \"Librije's Zusje Amsterdam\", 'Amsterdam', 'https://www.tripadvisor.com/Restaurant_Review-g188590-d6864170-Reviews-Librije_s_Zusje_Amsterdam-Amsterdam_North_Holland_Province.html', 5, 4.5, '$$$$', 316, 'd6864170')]\n"
     ]
    }
   ],
   "source": [
    "cursor.execute(\"select * from RESTAURANT\")\n",
    "t = cursor.fetchmany(5)\n",
    "print(t)"
   ]
  },
  {
   "cell_type": "code",
   "execution_count": 116,
   "metadata": {},
   "outputs": [],
   "source": [
    "import csv\n",
    "   \n",
    "with open('reviews_table.csv', encoding=\"utf8\") as file_obj:\n",
    "    counter = 0  \n",
    "    reader_obj = csv.reader(file_obj)\n",
    "      \n",
    "    for row in reader_obj:\n",
    "        if(len(row) == 3):\n",
    "            cursor.execute('''\n",
    "                    INSERT OR IGNORE INTO REVIEW (id, id_ta, comment, date)\n",
    "                    VALUES (?,?,?,?)\n",
    "                    ''',( \n",
    "                    counter,    \n",
    "                    row[0],\n",
    "                    row[1],\n",
    "                    row[2])\n",
    "                    )\n",
    "            counter+=1\n",
    "conn.commit()"
   ]
  },
  {
   "cell_type": "code",
   "execution_count": 117,
   "metadata": {},
   "outputs": [
    {
     "name": "stdout",
     "output_type": "stream",
     "text": [
      "[(0, 'd4220190', 'Smile please!', '05/23/2017'), (1, 'd7618708', 'Slowest service in zurich', '02/07/2017'), (2, 'd7618708', 'Like Pret a Manager just not goof', '07/24/2017'), (3, 'd808215', 'Outside...not inside', '08/31/2017'), (4, 'd808215', 'Great Restaurant and Mexican food', '09/17/2017')]\n"
     ]
    }
   ],
   "source": [
    "cursor.execute(\"select * from REVIEW\")\n",
    "t = cursor.fetchmany(5)\n",
    "print(t)"
   ]
  },
  {
   "cell_type": "code",
   "execution_count": 118,
   "metadata": {},
   "outputs": [],
   "source": [
    "import csv\n",
    "   \n",
    "with open('cuisine_style_table.csv', encoding=\"utf8\") as file_obj:\n",
    "    counter = 0  \n",
    "    reader_obj = csv.reader(file_obj)\n",
    "      \n",
    "    for row in reader_obj:\n",
    "        if(len(row) == 2):\n",
    "            cursor.execute('''\n",
    "                    INSERT OR IGNORE INTO CUISINE_STYLE (id, id_ta, name)\n",
    "                    VALUES (?,?,?)\n",
    "                    ''',( \n",
    "                    counter,    \n",
    "                    row[0],\n",
    "                    row[1])\n",
    "                    )\n",
    "            counter+=1\n",
    "conn.commit()"
   ]
  },
  {
   "cell_type": "code",
   "execution_count": 119,
   "metadata": {},
   "outputs": [
    {
     "name": "stdout",
     "output_type": "stream",
     "text": [
      "[(0, 'd11752080', 'French'), (1, 'd11752080', 'Dutch'), (2, 'd11752080', 'European'), (3, 'd693419', 'Dutch'), (4, 'd693419', 'European')]\n"
     ]
    }
   ],
   "source": [
    "cursor.execute(\"select * from CUISINE_STYLE\")\n",
    "t = cursor.fetchmany(5)\n",
    "print(t)"
   ]
  },
  {
   "cell_type": "code",
   "execution_count": 120,
   "metadata": {},
   "outputs": [],
   "source": [
    "conn.close()"
   ]
  }
 ],
 "metadata": {
  "kernelspec": {
   "display_name": "Python 3.10.7 64-bit",
   "language": "python",
   "name": "python3"
  },
  "language_info": {
   "codemirror_mode": {
    "name": "ipython",
    "version": 3
   },
   "file_extension": ".py",
   "mimetype": "text/x-python",
   "name": "python",
   "nbconvert_exporter": "python",
   "pygments_lexer": "ipython3",
   "version": "3.10.7"
  },
  "orig_nbformat": 4,
  "vscode": {
   "interpreter": {
    "hash": "cd9ebe1bb8b3f2dc50ca8b22ec1b61c8cd8bec746b32d711b5460639ef341e3c"
   }
  }
 },
 "nbformat": 4,
 "nbformat_minor": 2
}
