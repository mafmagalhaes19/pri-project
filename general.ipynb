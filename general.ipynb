{
 "cells": [
  {
   "cell_type": "code",
   "execution_count": 3,
   "metadata": {
    "collapsed": true
   },
   "outputs": [
    {
     "data": {
      "text/plain": "                         Name       City  \\\n0  Martine of Martine's Table  Amsterdam   \n1         De Silveren Spiegel  Amsterdam   \n2                     La Rive  Amsterdam   \n3                    Vinkeles  Amsterdam   \n4   Librije's Zusje Amsterdam  Amsterdam   \n\n                                       Cuisine Style  Ranking  Rating  \\\n0                    ['French', 'Dutch', 'European']      1.0     5.0   \n1  ['Dutch', 'European', 'Vegetarian Friendly', '...      2.0     4.5   \n2  ['Mediterranean', 'French', 'International', '...      3.0     4.5   \n3  ['French', 'European', 'International', 'Conte...      4.0     5.0   \n4  ['Dutch', 'European', 'International', 'Vegeta...      5.0     4.5   \n\n  Price Range  Number of Reviews  \\\n0    $$ - $$$              136.0   \n1        $$$$              812.0   \n2        $$$$              567.0   \n3        $$$$              564.0   \n4        $$$$              316.0   \n\n                                             Reviews  \\\n0  [['Just like home', 'A Warm Welcome to Wintry ...   \n1  [['Great food and staff', 'just perfect'], ['0...   \n2  [['Satisfaction', 'Delicious old school restau...   \n3  [['True five star dinner', 'A superb evening o...   \n4  [['Best meal.... EVER', 'super food experience...   \n\n                                              URL_TA      ID_TA  \n0  /Restaurant_Review-g188590-d11752080-Reviews-M...  d11752080  \n1  /Restaurant_Review-g188590-d693419-Reviews-De_...    d693419  \n2  /Restaurant_Review-g188590-d696959-Reviews-La_...    d696959  \n3  /Restaurant_Review-g188590-d1239229-Reviews-Vi...   d1239229  \n4  /Restaurant_Review-g188590-d6864170-Reviews-Li...   d6864170  ",
      "text/html": "<div>\n<style scoped>\n    .dataframe tbody tr th:only-of-type {\n        vertical-align: middle;\n    }\n\n    .dataframe tbody tr th {\n        vertical-align: top;\n    }\n\n    .dataframe thead th {\n        text-align: right;\n    }\n</style>\n<table border=\"1\" class=\"dataframe\">\n  <thead>\n    <tr style=\"text-align: right;\">\n      <th></th>\n      <th>Name</th>\n      <th>City</th>\n      <th>Cuisine Style</th>\n      <th>Ranking</th>\n      <th>Rating</th>\n      <th>Price Range</th>\n      <th>Number of Reviews</th>\n      <th>Reviews</th>\n      <th>URL_TA</th>\n      <th>ID_TA</th>\n    </tr>\n  </thead>\n  <tbody>\n    <tr>\n      <th>0</th>\n      <td>Martine of Martine's Table</td>\n      <td>Amsterdam</td>\n      <td>['French', 'Dutch', 'European']</td>\n      <td>1.0</td>\n      <td>5.0</td>\n      <td>$$ - $$$</td>\n      <td>136.0</td>\n      <td>[['Just like home', 'A Warm Welcome to Wintry ...</td>\n      <td>/Restaurant_Review-g188590-d11752080-Reviews-M...</td>\n      <td>d11752080</td>\n    </tr>\n    <tr>\n      <th>1</th>\n      <td>De Silveren Spiegel</td>\n      <td>Amsterdam</td>\n      <td>['Dutch', 'European', 'Vegetarian Friendly', '...</td>\n      <td>2.0</td>\n      <td>4.5</td>\n      <td>$$$$</td>\n      <td>812.0</td>\n      <td>[['Great food and staff', 'just perfect'], ['0...</td>\n      <td>/Restaurant_Review-g188590-d693419-Reviews-De_...</td>\n      <td>d693419</td>\n    </tr>\n    <tr>\n      <th>2</th>\n      <td>La Rive</td>\n      <td>Amsterdam</td>\n      <td>['Mediterranean', 'French', 'International', '...</td>\n      <td>3.0</td>\n      <td>4.5</td>\n      <td>$$$$</td>\n      <td>567.0</td>\n      <td>[['Satisfaction', 'Delicious old school restau...</td>\n      <td>/Restaurant_Review-g188590-d696959-Reviews-La_...</td>\n      <td>d696959</td>\n    </tr>\n    <tr>\n      <th>3</th>\n      <td>Vinkeles</td>\n      <td>Amsterdam</td>\n      <td>['French', 'European', 'International', 'Conte...</td>\n      <td>4.0</td>\n      <td>5.0</td>\n      <td>$$$$</td>\n      <td>564.0</td>\n      <td>[['True five star dinner', 'A superb evening o...</td>\n      <td>/Restaurant_Review-g188590-d1239229-Reviews-Vi...</td>\n      <td>d1239229</td>\n    </tr>\n    <tr>\n      <th>4</th>\n      <td>Librije's Zusje Amsterdam</td>\n      <td>Amsterdam</td>\n      <td>['Dutch', 'European', 'International', 'Vegeta...</td>\n      <td>5.0</td>\n      <td>4.5</td>\n      <td>$$$$</td>\n      <td>316.0</td>\n      <td>[['Best meal.... EVER', 'super food experience...</td>\n      <td>/Restaurant_Review-g188590-d6864170-Reviews-Li...</td>\n      <td>d6864170</td>\n    </tr>\n  </tbody>\n</table>\n</div>"
     },
     "execution_count": 3,
     "metadata": {},
     "output_type": "execute_result"
    }
   ],
   "source": [
    "import pandas as pd\n",
    "import numpy as np\n",
    "import matplotlib.pyplot as plt\n",
    "import seaborn as sb\n",
    "\n",
    "import re\n",
    "from collections import Counter\n",
    "from PIL import Image\n",
    "\n",
    "%matplotlib inline\n",
    "\n",
    "restaurants_data = pd.read_csv('TA_restaurants_curated.csv', encoding='utf8', index_col=0)\n",
    "\n",
    "restaurants_data.head()"
   ]
  },
  {
   "cell_type": "code",
   "execution_count": 4,
   "outputs": [
    {
     "name": "stdout",
     "output_type": "stream",
     "text": [
      "<class 'pandas.core.frame.DataFrame'>\n",
      "Int64Index: 125527 entries, 0 to 1666\n",
      "Data columns (total 10 columns):\n",
      " #   Column             Non-Null Count   Dtype  \n",
      "---  ------             --------------   -----  \n",
      " 0   Name               125527 non-null  object \n",
      " 1   City               125527 non-null  object \n",
      " 2   Cuisine Style      94176 non-null   object \n",
      " 3   Ranking            115876 non-null  float64\n",
      " 4   Rating             115897 non-null  float64\n",
      " 5   Price Range        77672 non-null   object \n",
      " 6   Number of Reviews  108183 non-null  float64\n",
      " 7   Reviews            115911 non-null  object \n",
      " 8   URL_TA             125527 non-null  object \n",
      " 9   ID_TA              125527 non-null  object \n",
      "dtypes: float64(3), object(7)\n",
      "memory usage: 10.5+ MB\n"
     ]
    }
   ],
   "source": [
    "restaurants_data.info()"
   ],
   "metadata": {
    "collapsed": false
   }
  },
  {
   "cell_type": "markdown",
   "source": [
    "# Data Cleaning\n",
    "    - Turn ranking into categorical datatype and Reviews from float to int"
   ],
   "metadata": {
    "collapsed": false
   }
  },
  {
   "cell_type": "code",
   "execution_count": 5,
   "outputs": [],
   "source": [
    "restaurants_data['Ranking'] = restaurants_data['Ranking'].astype('category')\n",
    "restaurants_data['Number of Reviews'] = restaurants_data['Number of Reviews'].fillna(0)\n",
    "restaurants_data['Number of Reviews'] = restaurants_data['Number of Reviews'].round(0).astype('int')"
   ],
   "metadata": {
    "collapsed": false
   }
  },
  {
   "cell_type": "markdown",
   "source": [
    "    - Remove duplicated rows by ID_TA"
   ],
   "metadata": {
    "collapsed": false
   }
  },
  {
   "cell_type": "code",
   "execution_count": 6,
   "outputs": [
    {
     "name": "stdout",
     "output_type": "stream",
     "text": [
      "201\n"
     ]
    }
   ],
   "source": [
    "print(restaurants_data[restaurants_data.ID_TA.duplicated() == True].ID_TA.count())"
   ],
   "metadata": {
    "collapsed": false
   }
  },
  {
   "cell_type": "code",
   "execution_count": 7,
   "outputs": [
    {
     "name": "stdout",
     "output_type": "stream",
     "text": [
      "<class 'pandas.core.frame.DataFrame'>\n",
      "Int64Index: 125326 entries, 0 to 1666\n",
      "Data columns (total 10 columns):\n",
      " #   Column             Non-Null Count   Dtype   \n",
      "---  ------             --------------   -----   \n",
      " 0   Name               125326 non-null  object  \n",
      " 1   City               125326 non-null  object  \n",
      " 2   Cuisine Style      94047 non-null   object  \n",
      " 3   Ranking            115710 non-null  category\n",
      " 4   Rating             115734 non-null  float64 \n",
      " 5   Price Range        77574 non-null   object  \n",
      " 6   Number of Reviews  125326 non-null  int64   \n",
      " 7   Reviews            115745 non-null  object  \n",
      " 8   URL_TA             125326 non-null  object  \n",
      " 9   ID_TA              125326 non-null  object  \n",
      "dtypes: category(1), float64(1), int64(1), object(7)\n",
      "memory usage: 10.4+ MB\n"
     ]
    }
   ],
   "source": [
    "restaurants_data = restaurants_data.drop_duplicates('ID_TA', keep='first')\n",
    "restaurants_data.info()"
   ],
   "metadata": {
    "collapsed": false
   }
  },
  {
   "cell_type": "markdown",
   "source": [
    "    -  Rename columns removing blank spaces and capital letters"
   ],
   "metadata": {
    "collapsed": false
   }
  },
  {
   "cell_type": "code",
   "execution_count": 8,
   "outputs": [],
   "source": [
    "restaurants_data.rename(columns={'Name': 'name',\n",
    "            'City': 'city',\n",
    "            'Ranking': 'ranking',\n",
    "            'Rating': 'rating',\n",
    "            'Reviews': 'reviews',\n",
    "            'Cuisine Style':'cuisine_style',\n",
    "            'Price Range':'price_range',\n",
    "            'Number of Reviews':'reviews_number'}, inplace=True)"
   ],
   "metadata": {
    "collapsed": false
   }
  },
  {
   "cell_type": "markdown",
   "source": [
    "    - Replace reviews with rating == -1.0 and setting tem to 0"
   ],
   "metadata": {
    "collapsed": false
   }
  },
  {
   "cell_type": "code",
   "execution_count": 9,
   "outputs": [
    {
     "name": "stdout",
     "output_type": "stream",
     "text": [
      "41\n"
     ]
    }
   ],
   "source": [
    "print(restaurants_data[restaurants_data.rating == -1.0].city.count())\n",
    "restaurants_data.rating.replace(-1, 0, inplace=True)"
   ],
   "metadata": {
    "collapsed": false
   }
  },
  {
   "cell_type": "markdown",
   "source": [
    "# Copy of the clean dataset"
   ],
   "metadata": {
    "collapsed": false
   }
  },
  {
   "cell_type": "code",
   "execution_count": null,
   "outputs": [],
   "source": [
    "restaurants = restaurants_data.copy()"
   ],
   "metadata": {
    "collapsed": false
   }
  }
 ],
 "metadata": {
  "kernelspec": {
   "display_name": "Python 3",
   "language": "python",
   "name": "python3"
  },
  "language_info": {
   "codemirror_mode": {
    "name": "ipython",
    "version": 2
   },
   "file_extension": ".py",
   "mimetype": "text/x-python",
   "name": "python",
   "nbconvert_exporter": "python",
   "pygments_lexer": "ipython2",
   "version": "2.7.6"
  }
 },
 "nbformat": 4,
 "nbformat_minor": 0
}
