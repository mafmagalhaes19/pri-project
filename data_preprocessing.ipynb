{
 "cells": [
  {
   "cell_type": "code",
   "execution_count": 264,
   "metadata": {
    "collapsed": true
   },
   "outputs": [
    {
     "data": {
      "text/html": [
       "<div>\n",
       "<style scoped>\n",
       "    .dataframe tbody tr th:only-of-type {\n",
       "        vertical-align: middle;\n",
       "    }\n",
       "\n",
       "    .dataframe tbody tr th {\n",
       "        vertical-align: top;\n",
       "    }\n",
       "\n",
       "    .dataframe thead th {\n",
       "        text-align: right;\n",
       "    }\n",
       "</style>\n",
       "<table border=\"1\" class=\"dataframe\">\n",
       "  <thead>\n",
       "    <tr style=\"text-align: right;\">\n",
       "      <th></th>\n",
       "      <th>Name</th>\n",
       "      <th>City</th>\n",
       "      <th>Cuisine Style</th>\n",
       "      <th>Ranking</th>\n",
       "      <th>Rating</th>\n",
       "      <th>Price Range</th>\n",
       "      <th>Number of Reviews</th>\n",
       "      <th>Reviews</th>\n",
       "      <th>URL_TA</th>\n",
       "      <th>ID_TA</th>\n",
       "    </tr>\n",
       "  </thead>\n",
       "  <tbody>\n",
       "    <tr>\n",
       "      <th>0</th>\n",
       "      <td>Martine of Martine's Table</td>\n",
       "      <td>Amsterdam</td>\n",
       "      <td>['French', 'Dutch', 'European']</td>\n",
       "      <td>1.0</td>\n",
       "      <td>5.0</td>\n",
       "      <td>$$ - $$$</td>\n",
       "      <td>136.0</td>\n",
       "      <td>[['Just like home', 'A Warm Welcome to Wintry ...</td>\n",
       "      <td>/Restaurant_Review-g188590-d11752080-Reviews-M...</td>\n",
       "      <td>d11752080</td>\n",
       "    </tr>\n",
       "    <tr>\n",
       "      <th>1</th>\n",
       "      <td>De Silveren Spiegel</td>\n",
       "      <td>Amsterdam</td>\n",
       "      <td>['Dutch', 'European', 'Vegetarian Friendly', '...</td>\n",
       "      <td>2.0</td>\n",
       "      <td>4.5</td>\n",
       "      <td>$$$$</td>\n",
       "      <td>812.0</td>\n",
       "      <td>[['Great food and staff', 'just perfect'], ['0...</td>\n",
       "      <td>/Restaurant_Review-g188590-d693419-Reviews-De_...</td>\n",
       "      <td>d693419</td>\n",
       "    </tr>\n",
       "    <tr>\n",
       "      <th>2</th>\n",
       "      <td>La Rive</td>\n",
       "      <td>Amsterdam</td>\n",
       "      <td>['Mediterranean', 'French', 'International', '...</td>\n",
       "      <td>3.0</td>\n",
       "      <td>4.5</td>\n",
       "      <td>$$$$</td>\n",
       "      <td>567.0</td>\n",
       "      <td>[['Satisfaction', 'Delicious old school restau...</td>\n",
       "      <td>/Restaurant_Review-g188590-d696959-Reviews-La_...</td>\n",
       "      <td>d696959</td>\n",
       "    </tr>\n",
       "    <tr>\n",
       "      <th>3</th>\n",
       "      <td>Vinkeles</td>\n",
       "      <td>Amsterdam</td>\n",
       "      <td>['French', 'European', 'International', 'Conte...</td>\n",
       "      <td>4.0</td>\n",
       "      <td>5.0</td>\n",
       "      <td>$$$$</td>\n",
       "      <td>564.0</td>\n",
       "      <td>[['True five star dinner', 'A superb evening o...</td>\n",
       "      <td>/Restaurant_Review-g188590-d1239229-Reviews-Vi...</td>\n",
       "      <td>d1239229</td>\n",
       "    </tr>\n",
       "    <tr>\n",
       "      <th>4</th>\n",
       "      <td>Librije's Zusje Amsterdam</td>\n",
       "      <td>Amsterdam</td>\n",
       "      <td>['Dutch', 'European', 'International', 'Vegeta...</td>\n",
       "      <td>5.0</td>\n",
       "      <td>4.5</td>\n",
       "      <td>$$$$</td>\n",
       "      <td>316.0</td>\n",
       "      <td>[['Best meal.... EVER', 'super food experience...</td>\n",
       "      <td>/Restaurant_Review-g188590-d6864170-Reviews-Li...</td>\n",
       "      <td>d6864170</td>\n",
       "    </tr>\n",
       "  </tbody>\n",
       "</table>\n",
       "</div>"
      ],
      "text/plain": [
       "                         Name       City  \\\n",
       "0  Martine of Martine's Table  Amsterdam   \n",
       "1         De Silveren Spiegel  Amsterdam   \n",
       "2                     La Rive  Amsterdam   \n",
       "3                    Vinkeles  Amsterdam   \n",
       "4   Librije's Zusje Amsterdam  Amsterdam   \n",
       "\n",
       "                                       Cuisine Style  Ranking  Rating  \\\n",
       "0                    ['French', 'Dutch', 'European']      1.0     5.0   \n",
       "1  ['Dutch', 'European', 'Vegetarian Friendly', '...      2.0     4.5   \n",
       "2  ['Mediterranean', 'French', 'International', '...      3.0     4.5   \n",
       "3  ['French', 'European', 'International', 'Conte...      4.0     5.0   \n",
       "4  ['Dutch', 'European', 'International', 'Vegeta...      5.0     4.5   \n",
       "\n",
       "  Price Range  Number of Reviews  \\\n",
       "0    $$ - $$$              136.0   \n",
       "1        $$$$              812.0   \n",
       "2        $$$$              567.0   \n",
       "3        $$$$              564.0   \n",
       "4        $$$$              316.0   \n",
       "\n",
       "                                             Reviews  \\\n",
       "0  [['Just like home', 'A Warm Welcome to Wintry ...   \n",
       "1  [['Great food and staff', 'just perfect'], ['0...   \n",
       "2  [['Satisfaction', 'Delicious old school restau...   \n",
       "3  [['True five star dinner', 'A superb evening o...   \n",
       "4  [['Best meal.... EVER', 'super food experience...   \n",
       "\n",
       "                                              URL_TA      ID_TA  \n",
       "0  /Restaurant_Review-g188590-d11752080-Reviews-M...  d11752080  \n",
       "1  /Restaurant_Review-g188590-d693419-Reviews-De_...    d693419  \n",
       "2  /Restaurant_Review-g188590-d696959-Reviews-La_...    d696959  \n",
       "3  /Restaurant_Review-g188590-d1239229-Reviews-Vi...   d1239229  \n",
       "4  /Restaurant_Review-g188590-d6864170-Reviews-Li...   d6864170  "
      ]
     },
     "execution_count": 264,
     "metadata": {},
     "output_type": "execute_result"
    }
   ],
   "source": [
    "import pandas as pd\n",
    "import numpy as np\n",
    "import matplotlib.pyplot as plt\n",
    "import seaborn as sb\n",
    "import csv\n",
    "\n",
    "import re\n",
    "from collections import Counter\n",
    "from PIL import Image\n",
    "\n",
    "from reviews_scraping import get_restaurant_reviews\n",
    "\n",
    "%matplotlib inline\n",
    "\n",
    "restaurants_data = pd.read_csv('datasets/TA_restaurants_curated.csv', encoding='utf8', index_col=0)\n",
    "\n",
    "restaurants_data.head()"
   ]
  },
  {
   "cell_type": "code",
   "execution_count": 265,
   "metadata": {
    "collapsed": false
   },
   "outputs": [
    {
     "name": "stdout",
     "output_type": "stream",
     "text": [
      "<class 'pandas.core.frame.DataFrame'>\n",
      "Int64Index: 125527 entries, 0 to 1666\n",
      "Data columns (total 10 columns):\n",
      " #   Column             Non-Null Count   Dtype  \n",
      "---  ------             --------------   -----  \n",
      " 0   Name               125527 non-null  object \n",
      " 1   City               125527 non-null  object \n",
      " 2   Cuisine Style      94176 non-null   object \n",
      " 3   Ranking            115876 non-null  float64\n",
      " 4   Rating             115897 non-null  float64\n",
      " 5   Price Range        77672 non-null   object \n",
      " 6   Number of Reviews  108183 non-null  float64\n",
      " 7   Reviews            115911 non-null  object \n",
      " 8   URL_TA             125527 non-null  object \n",
      " 9   ID_TA              125527 non-null  object \n",
      "dtypes: float64(3), object(7)\n",
      "memory usage: 10.5+ MB\n"
     ]
    }
   ],
   "source": [
    "restaurants_data.info()"
   ]
  },
  {
   "cell_type": "markdown",
   "metadata": {
    "collapsed": false
   },
   "source": [
    "# Data \n",
    "- Name: name of the restaurant\n",
    "- City: city location of the restaurant\n",
    "- Cuisine Style: cuisine style(s) of the restaurant, in a Python list object (94 046 non-null)\n",
    "    - French, Dutch, European, Vegetarian Friendly, etc.\n",
    "- Ranking: rank of the restaurant among the total number of restaurants in the city as a float object (115 645 non-null)\n",
    "    - Float type\n",
    "- Rating: rate of the restaurant on a scale from 1 to 5, as a float object (115 658 non-null)\n",
    "    - Float between -1 and 5\n",
    "- Price Range: price range of the restaurant among 3 categories , as a categorical type (77 555 non-null)\n",
    "    - $, $$, $$$, $$$$, $-$$, etc.\n",
    "- Number of Reviews: number of reviews that customers have let to the restaurant, as a float object (108 020 non-null)\n",
    "    - Float object\n",
    "- Reviews: 2 reviews that are displayed on the restaurants scrolling page of the city, as a list of list object where the first list contains the 2 reviews, and the second le dates when these reviews were written (115 673 non-null)\n",
    "    - Python List of two objects\n",
    "- URL_TA: part of the URL of the detailed restaurant page that comes after 'www.tripadvisor.com' as a string object (124 995 non-null)\n",
    "- ID_TA: identification of the restaurant in the TA database constructed a one letter and a number (124 995 non-null)"
   ]
  },
  {
   "cell_type": "markdown",
   "metadata": {
    "collapsed": false
   },
   "source": [
    "# Data Cleaning"
   ]
  },
  {
   "cell_type": "markdown",
   "metadata": {
    "collapsed": false
   },
   "source": [
    "## Turn ranking into categorical datatype "
   ]
  },
  {
   "cell_type": "code",
   "execution_count": 266,
   "metadata": {
    "collapsed": false
   },
   "outputs": [],
   "source": [
    "restaurants_data['Ranking'] = restaurants_data['Ranking'].astype('category')"
   ]
  },
  {
   "cell_type": "markdown",
   "metadata": {},
   "source": [
    "## Turn Reviews from float to int"
   ]
  },
  {
   "cell_type": "code",
   "execution_count": 267,
   "metadata": {
    "collapsed": false
   },
   "outputs": [],
   "source": [
    "restaurants_data['Number of Reviews'] = restaurants_data['Number of Reviews'].fillna(0)\n",
    "restaurants_data['Number of Reviews'] = restaurants_data['Number of Reviews'].round(0).astype('int')"
   ]
  },
  {
   "cell_type": "markdown",
   "metadata": {
    "collapsed": false
   },
   "source": [
    "## Remove duplicated rows by ID_TA\n",
    "    - There are duplicated rows by ID_TA (125 527 entries and 201 duplicated values)\n",
    "    - We will remove the duplicated values and keep only the first ones"
   ]
  },
  {
   "cell_type": "code",
   "execution_count": 268,
   "metadata": {
    "collapsed": false
   },
   "outputs": [
    {
     "name": "stdout",
     "output_type": "stream",
     "text": [
      "201\n"
     ]
    }
   ],
   "source": [
    "print(restaurants_data[restaurants_data.ID_TA.duplicated() == True].ID_TA.count())"
   ]
  },
  {
   "cell_type": "code",
   "execution_count": 269,
   "metadata": {
    "collapsed": false
   },
   "outputs": [
    {
     "name": "stdout",
     "output_type": "stream",
     "text": [
      "<class 'pandas.core.frame.DataFrame'>\n",
      "Int64Index: 125326 entries, 0 to 1666\n",
      "Data columns (total 10 columns):\n",
      " #   Column             Non-Null Count   Dtype   \n",
      "---  ------             --------------   -----   \n",
      " 0   Name               125326 non-null  object  \n",
      " 1   City               125326 non-null  object  \n",
      " 2   Cuisine Style      94047 non-null   object  \n",
      " 3   Ranking            115710 non-null  category\n",
      " 4   Rating             115734 non-null  float64 \n",
      " 5   Price Range        77574 non-null   object  \n",
      " 6   Number of Reviews  125326 non-null  int64   \n",
      " 7   Reviews            115745 non-null  object  \n",
      " 8   URL_TA             125326 non-null  object  \n",
      " 9   ID_TA              125326 non-null  object  \n",
      "dtypes: category(1), float64(1), int64(1), object(7)\n",
      "memory usage: 10.4+ MB\n"
     ]
    }
   ],
   "source": [
    "restaurants_data = restaurants_data.drop_duplicates('ID_TA', keep='first')\n",
    "restaurants_data.info()"
   ]
  },
  {
   "cell_type": "code",
   "execution_count": 270,
   "metadata": {
    "collapsed": false
   },
   "outputs": [
    {
     "name": "stdout",
     "output_type": "stream",
     "text": [
      "0\n"
     ]
    }
   ],
   "source": [
    "print(restaurants_data[restaurants_data.ID_TA.duplicated() == True].ID_TA.count())"
   ]
  },
  {
   "cell_type": "markdown",
   "metadata": {
    "collapsed": false
   },
   "source": [
    "## Rename columns removing blank spaces and capital letters"
   ]
  },
  {
   "cell_type": "code",
   "execution_count": 271,
   "metadata": {
    "collapsed": false
   },
   "outputs": [],
   "source": [
    "restaurants_data.rename(columns={'Name': 'name',\n",
    "            'City': 'city',\n",
    "            'Cuisine Style':'cuisine_style',\n",
    "            'Ranking': 'ranking',\n",
    "            'Rating': 'rating',\n",
    "            'Price Range':'price_range',\n",
    "            'Number of Reviews':'reviews_number',\n",
    "            'Reviews': 'reviews',\n",
    "            'URL_TA': 'url_ta',\n",
    "            'ID_TA': 'id_ta'}, inplace=True)"
   ]
  },
  {
   "cell_type": "markdown",
   "metadata": {
    "collapsed": false
   },
   "source": [
    "## Replace reviews with rating == -1.0 and setting them to 0\n",
    "    - There are some reviews bellow 0, which is impossible"
   ]
  },
  {
   "cell_type": "code",
   "execution_count": 272,
   "metadata": {
    "collapsed": false
   },
   "outputs": [
    {
     "name": "stdout",
     "output_type": "stream",
     "text": [
      "41\n"
     ]
    }
   ],
   "source": [
    "print(restaurants_data[restaurants_data.rating == -1.0].city.count())"
   ]
  },
  {
   "cell_type": "code",
   "execution_count": 273,
   "metadata": {
    "collapsed": false
   },
   "outputs": [
    {
     "name": "stdout",
     "output_type": "stream",
     "text": [
      "0\n"
     ]
    }
   ],
   "source": [
    "restaurants_data.rating.replace(-1, 0, inplace=True)\n",
    "print(restaurants_data[restaurants_data.rating == -1.0].city.count())"
   ]
  },
  {
   "cell_type": "markdown",
   "metadata": {},
   "source": [
    "## Eliminate Null values in cuisine_style\n",
    "    - There are several values of cuisine style null and we decided that these restaurants didn't have enough information, so we will remove them from the dataset."
   ]
  },
  {
   "cell_type": "code",
   "execution_count": 274,
   "metadata": {},
   "outputs": [
    {
     "name": "stdout",
     "output_type": "stream",
     "text": [
      "94047\n",
      "<class 'pandas.core.frame.DataFrame'>\n",
      "Int64Index: 94047 entries, 0 to 1666\n",
      "Data columns (total 10 columns):\n",
      " #   Column          Non-Null Count  Dtype   \n",
      "---  ------          --------------  -----   \n",
      " 0   name            94047 non-null  object  \n",
      " 1   city            94047 non-null  object  \n",
      " 2   cuisine_style   94047 non-null  object  \n",
      " 3   ranking         88947 non-null  category\n",
      " 4   rating          88933 non-null  float64 \n",
      " 5   price_range     77574 non-null  object  \n",
      " 6   reviews_number  94047 non-null  int64   \n",
      " 7   reviews         88942 non-null  object  \n",
      " 8   url_ta          94047 non-null  object  \n",
      " 9   id_ta           94047 non-null  object  \n",
      "dtypes: category(1), float64(1), int64(1), object(7)\n",
      "memory usage: 8.0+ MB\n"
     ]
    }
   ],
   "source": [
    "restaurants_data = restaurants_data[restaurants_data.cuisine_style.isnull()== False]\n",
    "print(restaurants_data.name.count())\n",
    "restaurants_data.info()"
   ]
  },
  {
   "cell_type": "markdown",
   "metadata": {},
   "source": [
    "## Eliminate Null values in ranking\n",
    "    - There are several values of ranking null and we decided that these restaurants didn't have enough information, so we will remove them from the dataset."
   ]
  },
  {
   "cell_type": "code",
   "execution_count": 275,
   "metadata": {},
   "outputs": [
    {
     "name": "stdout",
     "output_type": "stream",
     "text": [
      "88947\n",
      "<class 'pandas.core.frame.DataFrame'>\n",
      "Int64Index: 88947 entries, 0 to 1596\n",
      "Data columns (total 10 columns):\n",
      " #   Column          Non-Null Count  Dtype   \n",
      "---  ------          --------------  -----   \n",
      " 0   name            88947 non-null  object  \n",
      " 1   city            88947 non-null  object  \n",
      " 2   cuisine_style   88947 non-null  object  \n",
      " 3   ranking         88947 non-null  category\n",
      " 4   rating          88853 non-null  float64 \n",
      " 5   price_range     75406 non-null  object  \n",
      " 6   reviews_number  88947 non-null  int64   \n",
      " 7   reviews         88852 non-null  object  \n",
      " 8   url_ta          88947 non-null  object  \n",
      " 9   id_ta           88947 non-null  object  \n",
      "dtypes: category(1), float64(1), int64(1), object(7)\n",
      "memory usage: 7.6+ MB\n"
     ]
    }
   ],
   "source": [
    "restaurants_data = restaurants_data[restaurants_data.ranking.isnull()== False]\n",
    "print(restaurants_data.name.count())\n",
    "restaurants_data.info()"
   ]
  },
  {
   "cell_type": "markdown",
   "metadata": {},
   "source": [
    "## Eliminate Null values in rating\n",
    "    - There are several values of rating null and we decided that these restaurants didn't have enough information, so we will remove them from the dataset."
   ]
  },
  {
   "cell_type": "code",
   "execution_count": 276,
   "metadata": {},
   "outputs": [
    {
     "name": "stdout",
     "output_type": "stream",
     "text": [
      "88853\n",
      "<class 'pandas.core.frame.DataFrame'>\n",
      "Int64Index: 88853 entries, 0 to 1593\n",
      "Data columns (total 10 columns):\n",
      " #   Column          Non-Null Count  Dtype   \n",
      "---  ------          --------------  -----   \n",
      " 0   name            88853 non-null  object  \n",
      " 1   city            88853 non-null  object  \n",
      " 2   cuisine_style   88853 non-null  object  \n",
      " 3   ranking         88853 non-null  category\n",
      " 4   rating          88853 non-null  float64 \n",
      " 5   price_range     75339 non-null  object  \n",
      " 6   reviews_number  88853 non-null  int64   \n",
      " 7   reviews         88852 non-null  object  \n",
      " 8   url_ta          88853 non-null  object  \n",
      " 9   id_ta           88853 non-null  object  \n",
      "dtypes: category(1), float64(1), int64(1), object(7)\n",
      "memory usage: 7.6+ MB\n"
     ]
    }
   ],
   "source": [
    "restaurants_data = restaurants_data[restaurants_data.rating.isnull()== False]\n",
    "print(restaurants_data.name.count())\n",
    "restaurants_data.info()"
   ]
  },
  {
   "cell_type": "markdown",
   "metadata": {},
   "source": [
    "## Eliminate Null values in price_range\n",
    "    - There are several values of price range null and we decided that these restaurants didn't have enough information, so we will remove them from the dataset."
   ]
  },
  {
   "cell_type": "code",
   "execution_count": 277,
   "metadata": {},
   "outputs": [
    {
     "name": "stdout",
     "output_type": "stream",
     "text": [
      "75339\n",
      "<class 'pandas.core.frame.DataFrame'>\n",
      "Int64Index: 75339 entries, 0 to 1593\n",
      "Data columns (total 10 columns):\n",
      " #   Column          Non-Null Count  Dtype   \n",
      "---  ------          --------------  -----   \n",
      " 0   name            75339 non-null  object  \n",
      " 1   city            75339 non-null  object  \n",
      " 2   cuisine_style   75339 non-null  object  \n",
      " 3   ranking         75339 non-null  category\n",
      " 4   rating          75339 non-null  float64 \n",
      " 5   price_range     75339 non-null  object  \n",
      " 6   reviews_number  75339 non-null  int64   \n",
      " 7   reviews         75338 non-null  object  \n",
      " 8   url_ta          75339 non-null  object  \n",
      " 9   id_ta           75339 non-null  object  \n",
      "dtypes: category(1), float64(1), int64(1), object(7)\n",
      "memory usage: 6.5+ MB\n"
     ]
    }
   ],
   "source": [
    "restaurants_data = restaurants_data[restaurants_data.price_range.isnull()== False]\n",
    "print(restaurants_data.name.count())\n",
    "restaurants_data.info()"
   ]
  },
  {
   "cell_type": "markdown",
   "metadata": {},
   "source": [
    "## Eliminate Null values in reviews\n",
    "    - There are several values of reviews that are null and we decided that these restaurants didn't have enough information, so we will remove them from the dataset."
   ]
  },
  {
   "cell_type": "code",
   "execution_count": 278,
   "metadata": {},
   "outputs": [
    {
     "name": "stdout",
     "output_type": "stream",
     "text": [
      "75338\n",
      "<class 'pandas.core.frame.DataFrame'>\n",
      "Int64Index: 75338 entries, 0 to 1593\n",
      "Data columns (total 10 columns):\n",
      " #   Column          Non-Null Count  Dtype   \n",
      "---  ------          --------------  -----   \n",
      " 0   name            75338 non-null  object  \n",
      " 1   city            75338 non-null  object  \n",
      " 2   cuisine_style   75338 non-null  object  \n",
      " 3   ranking         75338 non-null  category\n",
      " 4   rating          75338 non-null  float64 \n",
      " 5   price_range     75338 non-null  object  \n",
      " 6   reviews_number  75338 non-null  int64   \n",
      " 7   reviews         75338 non-null  object  \n",
      " 8   url_ta          75338 non-null  object  \n",
      " 9   id_ta           75338 non-null  object  \n",
      "dtypes: category(1), float64(1), int64(1), object(7)\n",
      "memory usage: 6.5+ MB\n"
     ]
    }
   ],
   "source": [
    "restaurants_data = restaurants_data[restaurants_data.reviews.isnull()== False]\n",
    "print(restaurants_data.name.count())\n",
    "restaurants_data.info()"
   ]
  },
  {
   "cell_type": "markdown",
   "metadata": {},
   "source": [
    "## Normalize Review links\n",
    "    - It is missing the \"www.tripadvisor.com\" from the URL_TA column"
   ]
  },
  {
   "cell_type": "code",
   "execution_count": 279,
   "metadata": {},
   "outputs": [
    {
     "data": {
      "text/html": [
       "<div>\n",
       "<style scoped>\n",
       "    .dataframe tbody tr th:only-of-type {\n",
       "        vertical-align: middle;\n",
       "    }\n",
       "\n",
       "    .dataframe tbody tr th {\n",
       "        vertical-align: top;\n",
       "    }\n",
       "\n",
       "    .dataframe thead th {\n",
       "        text-align: right;\n",
       "    }\n",
       "</style>\n",
       "<table border=\"1\" class=\"dataframe\">\n",
       "  <thead>\n",
       "    <tr style=\"text-align: right;\">\n",
       "      <th></th>\n",
       "      <th>name</th>\n",
       "      <th>city</th>\n",
       "      <th>cuisine_style</th>\n",
       "      <th>ranking</th>\n",
       "      <th>rating</th>\n",
       "      <th>price_range</th>\n",
       "      <th>reviews_number</th>\n",
       "      <th>reviews</th>\n",
       "      <th>url_ta</th>\n",
       "      <th>id_ta</th>\n",
       "    </tr>\n",
       "  </thead>\n",
       "  <tbody>\n",
       "    <tr>\n",
       "      <th>0</th>\n",
       "      <td>Martine of Martine's Table</td>\n",
       "      <td>Amsterdam</td>\n",
       "      <td>['French', 'Dutch', 'European']</td>\n",
       "      <td>1.0</td>\n",
       "      <td>5.0</td>\n",
       "      <td>$$ - $$$</td>\n",
       "      <td>136</td>\n",
       "      <td>[['Just like home', 'A Warm Welcome to Wintry ...</td>\n",
       "      <td>https://www.tripadvisor.com/Restaurant_Review-...</td>\n",
       "      <td>d11752080</td>\n",
       "    </tr>\n",
       "    <tr>\n",
       "      <th>1</th>\n",
       "      <td>De Silveren Spiegel</td>\n",
       "      <td>Amsterdam</td>\n",
       "      <td>['Dutch', 'European', 'Vegetarian Friendly', '...</td>\n",
       "      <td>2.0</td>\n",
       "      <td>4.5</td>\n",
       "      <td>$$$$</td>\n",
       "      <td>812</td>\n",
       "      <td>[['Great food and staff', 'just perfect'], ['0...</td>\n",
       "      <td>https://www.tripadvisor.com/Restaurant_Review-...</td>\n",
       "      <td>d693419</td>\n",
       "    </tr>\n",
       "    <tr>\n",
       "      <th>2</th>\n",
       "      <td>La Rive</td>\n",
       "      <td>Amsterdam</td>\n",
       "      <td>['Mediterranean', 'French', 'International', '...</td>\n",
       "      <td>3.0</td>\n",
       "      <td>4.5</td>\n",
       "      <td>$$$$</td>\n",
       "      <td>567</td>\n",
       "      <td>[['Satisfaction', 'Delicious old school restau...</td>\n",
       "      <td>https://www.tripadvisor.com/Restaurant_Review-...</td>\n",
       "      <td>d696959</td>\n",
       "    </tr>\n",
       "    <tr>\n",
       "      <th>3</th>\n",
       "      <td>Vinkeles</td>\n",
       "      <td>Amsterdam</td>\n",
       "      <td>['French', 'European', 'International', 'Conte...</td>\n",
       "      <td>4.0</td>\n",
       "      <td>5.0</td>\n",
       "      <td>$$$$</td>\n",
       "      <td>564</td>\n",
       "      <td>[['True five star dinner', 'A superb evening o...</td>\n",
       "      <td>https://www.tripadvisor.com/Restaurant_Review-...</td>\n",
       "      <td>d1239229</td>\n",
       "    </tr>\n",
       "    <tr>\n",
       "      <th>4</th>\n",
       "      <td>Librije's Zusje Amsterdam</td>\n",
       "      <td>Amsterdam</td>\n",
       "      <td>['Dutch', 'European', 'International', 'Vegeta...</td>\n",
       "      <td>5.0</td>\n",
       "      <td>4.5</td>\n",
       "      <td>$$$$</td>\n",
       "      <td>316</td>\n",
       "      <td>[['Best meal.... EVER', 'super food experience...</td>\n",
       "      <td>https://www.tripadvisor.com/Restaurant_Review-...</td>\n",
       "      <td>d6864170</td>\n",
       "    </tr>\n",
       "  </tbody>\n",
       "</table>\n",
       "</div>"
      ],
      "text/plain": [
       "                         name       city  \\\n",
       "0  Martine of Martine's Table  Amsterdam   \n",
       "1         De Silveren Spiegel  Amsterdam   \n",
       "2                     La Rive  Amsterdam   \n",
       "3                    Vinkeles  Amsterdam   \n",
       "4   Librije's Zusje Amsterdam  Amsterdam   \n",
       "\n",
       "                                       cuisine_style ranking  rating  \\\n",
       "0                    ['French', 'Dutch', 'European']     1.0     5.0   \n",
       "1  ['Dutch', 'European', 'Vegetarian Friendly', '...     2.0     4.5   \n",
       "2  ['Mediterranean', 'French', 'International', '...     3.0     4.5   \n",
       "3  ['French', 'European', 'International', 'Conte...     4.0     5.0   \n",
       "4  ['Dutch', 'European', 'International', 'Vegeta...     5.0     4.5   \n",
       "\n",
       "  price_range  reviews_number  \\\n",
       "0    $$ - $$$             136   \n",
       "1        $$$$             812   \n",
       "2        $$$$             567   \n",
       "3        $$$$             564   \n",
       "4        $$$$             316   \n",
       "\n",
       "                                             reviews  \\\n",
       "0  [['Just like home', 'A Warm Welcome to Wintry ...   \n",
       "1  [['Great food and staff', 'just perfect'], ['0...   \n",
       "2  [['Satisfaction', 'Delicious old school restau...   \n",
       "3  [['True five star dinner', 'A superb evening o...   \n",
       "4  [['Best meal.... EVER', 'super food experience...   \n",
       "\n",
       "                                              url_ta      id_ta  \n",
       "0  https://www.tripadvisor.com/Restaurant_Review-...  d11752080  \n",
       "1  https://www.tripadvisor.com/Restaurant_Review-...    d693419  \n",
       "2  https://www.tripadvisor.com/Restaurant_Review-...    d696959  \n",
       "3  https://www.tripadvisor.com/Restaurant_Review-...   d1239229  \n",
       "4  https://www.tripadvisor.com/Restaurant_Review-...   d6864170  "
      ]
     },
     "execution_count": 279,
     "metadata": {},
     "output_type": "execute_result"
    }
   ],
   "source": [
    "restaurants_data[\"url_ta\"] = \"https://www.tripadvisor.com\" + restaurants_data[\"url_ta\"]\n",
    "restaurants_data.head()"
   ]
  },
  {
   "cell_type": "markdown",
   "metadata": {},
   "source": [
    "# Create a new csv file for reviews\n",
    "    - Separate the reviews from each restaurant into a different table"
   ]
  },
  {
   "cell_type": "code",
   "execution_count": 280,
   "metadata": {},
   "outputs": [
    {
     "name": "stdout",
     "output_type": "stream",
     "text": [
      "Reviews size and dates don't match - restaurant d3589386\n",
      "Reviews\n",
      "[[nan, 'Good food with decent service\n",
      "Dates\n",
      "['11/21/2017\n",
      "07/21/2017']]\n",
      "Total number of errors: 1\n",
      "Reviews size and dates don't match - restaurant d10278680\n",
      "Reviews\n",
      "[['Lovely, cosy restaurant, pleasant staff, d...\n",
      "Memorable dinner [Nov.], breakfast should...\n",
      "Dates\n",
      "breakfast should...'\n",
      "Total number of errors: 2\n",
      "Reviews size and dates don't match - restaurant d8811565\n",
      "Reviews\n",
      "[['A very good \"Francesinha\n",
      " indeed\n",
      "Dates\n",
      "['03/30/2017']]\n",
      "Total number of errors: 3\n",
      "Reviews size and dates don't match - restaurant d959060\n",
      "Reviews\n",
      "[['Good food, attentive staff\n",
      "Sternstraße 125, Schanzenviertel, [59], ju...\n",
      "Dates\n",
      "ju...'\n",
      "Total number of errors: 4\n"
     ]
    }
   ],
   "source": [
    "count = 0\n",
    "\n",
    "for index, row in restaurants_data.iterrows():\n",
    "    aux_reviews = row.reviews.split(\"'], \")[0]\n",
    "    aux_dates = row.reviews.split('], ')[1]\n",
    "\n",
    "    final_reviews = aux_reviews.split(\"', '\")\n",
    "    if len(final_reviews) == 1:\n",
    "        final_reviews = aux_reviews.split('\",')\n",
    "    final_dates = aux_dates.split(\"', '\")\n",
    "\n",
    "    if len(final_dates) != len(final_reviews):\n",
    "        print(\"Reviews size and dates don't match - restaurant \" + str(row.id_ta))\n",
    "        print(\"Reviews\")\n",
    "        for i in range(len(final_reviews)):\n",
    "            print(final_reviews[i])\n",
    "        print(\"Dates\")\n",
    "        for j in range(len(final_dates)):\n",
    "            print(final_dates[j])\n",
    "        count = count + 1\n",
    "        print(\"Total number of errors: \" + str(count))\n",
    "\n",
    "    "
   ]
  },
  {
   "cell_type": "markdown",
   "metadata": {},
   "source": [
    "## Errors\n",
    "- After searching through all reviews, we found out that 4 restaurants had bad structured reviews, so we decided to eliminate them.\n",
    "- Errors occurred on restaurants:\n",
    "    - d3589386\n",
    "    - d10278680\n",
    "    - d8811565\n",
    "    - d959060"
   ]
  },
  {
   "cell_type": "code",
   "execution_count": 281,
   "metadata": {},
   "outputs": [
    {
     "name": "stdout",
     "output_type": "stream",
     "text": [
      "<class 'pandas.core.frame.DataFrame'>\n",
      "Int64Index: 75334 entries, 0 to 1593\n",
      "Data columns (total 10 columns):\n",
      " #   Column          Non-Null Count  Dtype   \n",
      "---  ------          --------------  -----   \n",
      " 0   name            75334 non-null  object  \n",
      " 1   city            75334 non-null  object  \n",
      " 2   cuisine_style   75334 non-null  object  \n",
      " 3   ranking         75334 non-null  category\n",
      " 4   rating          75334 non-null  float64 \n",
      " 5   price_range     75334 non-null  object  \n",
      " 6   reviews_number  75334 non-null  int64   \n",
      " 7   reviews         75334 non-null  object  \n",
      " 8   url_ta          75334 non-null  object  \n",
      " 9   id_ta           75334 non-null  object  \n",
      "dtypes: category(1), float64(1), int64(1), object(7)\n",
      "memory usage: 6.5+ MB\n"
     ]
    }
   ],
   "source": [
    "restaurants_data = restaurants_data[restaurants_data.id_ta != \"d3589386\"]\n",
    "restaurants_data = restaurants_data[restaurants_data.id_ta != \"d10278680\"]\n",
    "restaurants_data = restaurants_data[restaurants_data.id_ta != \"d8811565\"]\n",
    "restaurants_data = restaurants_data[restaurants_data.id_ta != \"d959060\"]\n",
    "\n",
    "restaurants_data.info()"
   ]
  },
  {
   "cell_type": "code",
   "execution_count": 282,
   "metadata": {},
   "outputs": [],
   "source": [
    "path_to_file = \"datasets/reviews_table.csv\"\n",
    "\n",
    "csvFile = open(path_to_file, 'a', encoding=\"utf-8\")\n",
    "csvWriter = csv.writer(csvFile)\n",
    "\n",
    "for index, row in restaurants_data.iterrows():\n",
    "    aux_reviews = row.reviews.split(\"'], \")[0]\n",
    "    aux_dates = row.reviews.split('], ')[1]\n",
    "\n",
    "    final_reviews = aux_reviews.split(\"', '\")\n",
    "    if len(final_reviews) == 1:\n",
    "        final_reviews = aux_reviews.split('\",')\n",
    "    final_dates = aux_dates.split(\"', '\")\n",
    "\n",
    "    for i in range(len(final_reviews)):\n",
    "        review = final_reviews[i].replace(\"[\", \"\")\n",
    "        review = review.replace(\"'\", \"\")\n",
    "        review = review.replace(\"]\", \"\")\n",
    "        review = review.replace('\"', '')\n",
    "        final_review = review.strip('\"')\n",
    "\n",
    "        date = final_dates[i].replace(\"[\", \"\")\n",
    "        date = date.replace(\"]\", \"\")\n",
    "        date = date.replace(\"'\", \"\")\n",
    "        date = date.replace('\"', \"\")\n",
    "\n",
    "        if len(final_review) > 1:\n",
    "            csvWriter.writerow([row.id_ta, final_review, date]) "
   ]
  },
  {
   "cell_type": "markdown",
   "metadata": {},
   "source": [
    "# Create a new csv file for cuisine styles\n",
    "    - Separate the cuisine styles from each restaurant into a different table"
   ]
  },
  {
   "cell_type": "code",
   "execution_count": 283,
   "metadata": {},
   "outputs": [],
   "source": [
    "path_to_cuisine_file = \"datasets/cuisine_style_table.csv\"\n",
    "\n",
    "csv_cuisine_file = open(path_to_cuisine_file, 'a', encoding=\"utf-8\")\n",
    "csv_cuisine_writer = csv.writer(csv_cuisine_file)\n",
    "\n",
    "for index, row in restaurants_data.iterrows():\n",
    "    aux_styles = row.cuisine_style.strip(\"[]'\")\n",
    "    aux_styles = aux_styles.split(\", \")\n",
    "\n",
    "    for i in range(len(aux_styles)):\n",
    "        style = aux_styles[i]\n",
    "        style = style.strip(\"'\")\n",
    "        csv_cuisine_writer.writerow([row.id_ta, style]) "
   ]
  },
  {
   "cell_type": "markdown",
   "metadata": {
    "collapsed": false
   },
   "source": [
    "# Copy of the clean dataset"
   ]
  },
  {
   "cell_type": "code",
   "execution_count": 284,
   "metadata": {
    "collapsed": false
   },
   "outputs": [],
   "source": [
    "restaurants = restaurants_data.copy()\n",
    "\n",
    "path_to_clean_file = \"datasets/clean_ta_dataset.csv\"\n",
    "\n",
    "csv_clean_file = open(path_to_clean_file, 'a', encoding=\"utf-8\")\n",
    "csv_clean_writer = csv.writer(csv_clean_file)\n",
    "\n",
    "for index, row in restaurants_data.iterrows():\n",
    "    csv_clean_writer.writerow(row) \n"
   ]
  },
  {
   "cell_type": "code",
   "execution_count": 285,
   "metadata": {},
   "outputs": [
    {
     "name": "stdout",
     "output_type": "stream",
     "text": [
      "<class 'pandas.core.frame.DataFrame'>\n",
      "Int64Index: 75334 entries, 0 to 1593\n",
      "Data columns (total 10 columns):\n",
      " #   Column          Non-Null Count  Dtype   \n",
      "---  ------          --------------  -----   \n",
      " 0   name            75334 non-null  object  \n",
      " 1   city            75334 non-null  object  \n",
      " 2   cuisine_style   75334 non-null  object  \n",
      " 3   ranking         75334 non-null  category\n",
      " 4   rating          75334 non-null  float64 \n",
      " 5   price_range     75334 non-null  object  \n",
      " 6   reviews_number  75334 non-null  int64   \n",
      " 7   reviews         75334 non-null  object  \n",
      " 8   url_ta          75334 non-null  object  \n",
      " 9   id_ta           75334 non-null  object  \n",
      "dtypes: category(1), float64(1), int64(1), object(7)\n",
      "memory usage: 6.5+ MB\n"
     ]
    }
   ],
   "source": [
    "restaurants_data.info()"
   ]
  },
  {
   "cell_type": "markdown",
   "metadata": {},
   "source": [
    "# Web scraping the reviews of each one of the restaurants"
   ]
  },
  {
   "cell_type": "code",
   "execution_count": 286,
   "metadata": {},
   "outputs": [],
   "source": [
    "# # generate random integer values\n",
    "# from random import seed\n",
    "# from random import randint\n",
    "\n",
    "# clean_data_scraper = pd.read_csv('datasets/clean_ta_dataset.csv', encoding='utf8', index_col=0)\n",
    "\n",
    "# # seed random number generator\n",
    "# seed(1)\n",
    "\n",
    "# count = 0\n",
    "\n",
    "# next_value = 0\n",
    "\n",
    "# for index, row in clean_data_scraper.iterrows():\n",
    "#     if(count > next_value):\n",
    "#         next_value = next_value + randint(0, 200)\n",
    "#         print('Getting reviews from ' + str(count))\n",
    "#         get_restaurant_reviews(row.id_ta, row.url_ta)\n",
    "#     count = count + 1"
   ]
  },
  {
   "cell_type": "markdown",
   "metadata": {},
   "source": [
    "# Data after scraping"
   ]
  },
  {
   "cell_type": "code",
   "execution_count": 386,
   "metadata": {},
   "outputs": [
    {
     "name": "stdout",
     "output_type": "stream",
     "text": [
      "2123\n",
      "<class 'pandas.core.frame.DataFrame'>\n",
      "RangeIndex: 28890 entries, 0 to 28889\n",
      "Data columns (total 5 columns):\n",
      " #   Column         Non-Null Count  Dtype \n",
      "---  ------         --------------  ----- \n",
      " 0   restaurant_id  28890 non-null  object\n",
      " 1   date           28729 non-null  object\n",
      " 2   rating         28890 non-null  int64 \n",
      " 3   title          28890 non-null  object\n",
      " 4   review         28890 non-null  object\n",
      "dtypes: int64(1), object(4)\n",
      "memory usage: 1.1+ MB\n"
     ]
    }
   ],
   "source": [
    "reviews_scraped = pd.read_csv('datasets/scraping/reviews.csv')\n",
    "print(reviews_scraped['restaurant_id'].nunique())\n",
    "reviews_scraped.info()\n"
   ]
  },
  {
   "cell_type": "markdown",
   "metadata": {},
   "source": [
    "# Merge everything in a final csv\n",
    "\n",
    "## Merge every review in one dataset\n",
    "- Eliminate the column of reviews that aren't cleaned.\n",
    "- Append all the reviews for each restaurant, with the correct format.\n",
    "\n",
    "## Final csv\n",
    "- Copy everything to the final csv."
   ]
  },
  {
   "cell_type": "code",
   "execution_count": 387,
   "metadata": {},
   "outputs": [],
   "source": [
    "cleaned_dataset = pd.read_csv('datasets/clean_ta_dataset.csv')\n",
    "\n",
    "initial_reviews = pd.read_csv('datasets/reviews_table.csv')\n",
    "scraper_reviews = pd.read_csv('datasets/scraping/reviews.csv')\n",
    "\n",
    "cuisine_styles = pd.read_csv('datasets/cuisine_style_table.csv')\n",
    "\n",
    "total_reviews = {}\n",
    "\n",
    "total_cuisine_styles = {}\n",
    "\n",
    "emoji_pattern = re.compile(\"[\"\n",
    "        u\"\\U0001F600-\\U0001F64F\"  # emoticons\n",
    "        u\"\\U0001F300-\\U0001F5FF\"  # symbols & pictographs\n",
    "        u\"\\U0001F680-\\U0001F6FF\"  # transport & map symbols\n",
    "        u\"\\U0001F1E0-\\U0001F1FF\"  # flags (iOS)\n",
    "                           \"]+\", flags=re.UNICODE)\n",
    "\n",
    "# Getting reviews from scraper_reviews\n",
    "for index_scraper, row_scraper in scraper_reviews.iterrows():\n",
    "    if row_scraper.restaurant_id in total_reviews:\n",
    "        total_reviews[row_scraper.restaurant_id].append(emoji_pattern.sub(r'', row_scraper.review))\n",
    "    else:\n",
    "        total_reviews[row_scraper.restaurant_id] = [emoji_pattern.sub(r'', row_scraper.review)]\n",
    "\n",
    "# Getting reviews from initial_reviews\n",
    "for index_initial, row_initial in initial_reviews.iterrows():\n",
    "    if not row_initial.review == ', ': # Some reviews are empty\n",
    "        if row_initial.restaurant_id in total_reviews:\n",
    "            total_reviews[row_initial.restaurant_id].append(row_initial.review)\n",
    "        else:\n",
    "            total_reviews[row_initial.restaurant_id] = [row_initial.review]\n",
    "\n",
    "# Getting cuisine styles from cuisine_styles\n",
    "for index_cuisine, row_cuisine in cuisine_styles.iterrows():\n",
    "    if row_cuisine.restaurant_id in total_cuisine_styles:\n",
    "        total_cuisine_styles[row_cuisine.restaurant_id].append(row_cuisine.cuisine_style)\n",
    "    else:\n",
    "        total_cuisine_styles[row_cuisine.restaurant_id] = [row_cuisine.cuisine_style]\n",
    "\n",
    "for index, row in cleaned_dataset.iterrows():\n",
    "    if row.restaurant_id in total_reviews:\n",
    "        cleaned_dataset.at[index, 'reviews'] = total_reviews[row.restaurant_id]\n",
    "    else:\n",
    "         cleaned_dataset.at[index, 'reviews'] = None\n",
    "    \n",
    "    if row.restaurant_id in total_cuisine_styles:\n",
    "        cleaned_dataset.at[index, 'cuisine_style'] = total_cuisine_styles[row.restaurant_id]\n",
    "    else:\n",
    "         cleaned_dataset.at[index, 'cuisine_style'] = None\n"
   ]
  },
  {
   "cell_type": "code",
   "execution_count": 388,
   "metadata": {},
   "outputs": [],
   "source": [
    "cleaned_dataset = cleaned_dataset[cleaned_dataset.reviews.isnull()== False]\n",
    "cleaned_dataset = cleaned_dataset[cleaned_dataset.cuisine_style.isnull()== False]\n",
    "\n",
    "cleaned_dataset['reviews'] = cleaned_dataset['reviews'].values.tolist()\n",
    "cleaned_dataset['cuisine_style'] = cleaned_dataset['cuisine_style'].values.tolist()\n",
    "\n",
    "cleaned_dataset.to_csv('datasets/final_data.csv')"
   ]
  },
  {
   "cell_type": "markdown",
   "metadata": {},
   "source": [
    "# Convert to json"
   ]
  },
  {
   "cell_type": "code",
   "execution_count": 389,
   "metadata": {},
   "outputs": [],
   "source": [
    "import json\n",
    "\n",
    "restaurant_dict = cleaned_dataset.to_dict(orient='records')\n",
    "\n",
    "with open(\"datasets/json/restaurants.json\", \"w\") as f:\n",
    "    f.write(json.dumps(restaurant_dict, indent=4))\n",
    "    f.close()"
   ]
  }
 ],
 "metadata": {
  "kernelspec": {
   "display_name": "Python 3.9.12 ('base')",
   "language": "python",
   "name": "python3"
  },
  "language_info": {
   "codemirror_mode": {
    "name": "ipython",
    "version": 3
   },
   "file_extension": ".py",
   "mimetype": "text/x-python",
   "name": "python",
   "nbconvert_exporter": "python",
   "pygments_lexer": "ipython3",
   "version": "3.9.12"
  },
  "vscode": {
   "interpreter": {
    "hash": "e80415699feada2315bf46794f51dee0b1751584379de21015da5ba3034892b6"
   }
  }
 },
 "nbformat": 4,
 "nbformat_minor": 0
}
