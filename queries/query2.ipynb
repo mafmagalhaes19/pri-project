{
 "cells": [
  {
   "cell_type": "markdown",
   "metadata": {},
   "source": []
  },
  {
   "cell_type": "code",
   "execution_count": null,
   "metadata": {},
   "outputs": [],
   "source": [
    "import os, sys, json, csv\n",
    "import pandas as pd\n",
    "import matplotlib.pyplot as plt\n",
    "import numpy as np\n",
    "from sklearn.metrics import (precision_recall_curve,\n",
    "                             PrecisionRecallDisplay)"
   ]
  },
  {
   "cell_type": "code",
   "execution_count": null,
   "metadata": {},
   "outputs": [],
   "source": [
    "precision_system_1 = [1, 0.5, 0.67, 0.75, 0.6, 0.5, 0.57, 0.5, 0.56, 0.6]\n",
    "recall_system_1 = [0.09, 0.09, 0.18, 0.27, 0.27, 0.27, 0.36, 0.36, 0.45, 0.55]\n",
    "\n",
    "precision_system_2 = [1, 0.5, 0.67, 0.75, 0.8, 0.83, 0.86, 0.88, 0.89, 0.9]\n",
    "recall_system_2 = [0.06, 0.06, 0.12, 0.18, 0.24, 0.29, 0.35, 0.5, 0.57, 0.64]"
   ]
  },
  {
   "cell_type": "code",
   "execution_count": null,
   "metadata": {},
   "outputs": [],
   "source": [
    "disp1 = PrecisionRecallDisplay(precision_system_1, recall_system_1)\n",
    "disp1.plot()\n",
    "disp2 = PrecisionRecallDisplay(precision_system_2, recall_system_2)\n",
    "disp2.plot()"
   ]
  }
 ],
 "metadata": {
  "kernelspec": {
   "display_name": "Python 3.9.12 ('base')",
   "language": "python",
   "name": "python3"
  },
  "language_info": {
   "codemirror_mode": {
    "name": "ipython",
    "version": 3
   },
   "file_extension": ".py",
   "mimetype": "text/x-python",
   "name": "python",
   "nbconvert_exporter": "python",
   "pygments_lexer": "ipython3",
   "version": "3.9.12"
  },
  "orig_nbformat": 4,
  "vscode": {
   "interpreter": {
    "hash": "9b7d7ee9b2118f8f29ee3c2943ff5892e51c40e2747a7acf3a208d37038c104a"
   }
  }
 },
 "nbformat": 4,
 "nbformat_minor": 2
}
