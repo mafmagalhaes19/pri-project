{
 "cells": [
  {
   "cell_type": "markdown",
   "metadata": {},
   "source": []
  },
  {
   "cell_type": "code",
   "execution_count": null,
   "metadata": {},
   "outputs": [],
   "source": [
    "precision_system_1 = [1, 0.5, 0.67, 0.75, 0.6, 0.5, 0.57, 0.5, 0.56, 0.6]\n",
    "recall_system_1 = [0.09, 0.09, 0.18, 0.27, 0.27, 0.27, 0.36, 0.36, 0.45, 0.55]\n",
    "\n",
    "precision_system_2 = [1, 0.5, 0.67, 0.75, 0.8, 0.83, 0.86, 0.88, 0.89, 0.9]\n",
    "recall_system_2 = [0.06, 0.06, 0.12, 0.18, 0.24, 0.29, 0.35, 0.5, 0.57, 0.64]"
   ]
  }
 ],
 "metadata": {
  "kernelspec": {
   "display_name": "Python 3.9.12 ('base')",
   "language": "python",
   "name": "python3"
  },
  "language_info": {
   "name": "python",
   "version": "3.9.12"
  },
  "orig_nbformat": 4,
  "vscode": {
   "interpreter": {
    "hash": "e80415699feada2315bf46794f51dee0b1751584379de21015da5ba3034892b6"
   }
  }
 },
 "nbformat": 4,
 "nbformat_minor": 2
}
