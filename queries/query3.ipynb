{
 "cells": [
  {
   "cell_type": "markdown",
   "metadata": {},
   "source": []
  },
  {
   "cell_type": "code",
   "execution_count": null,
   "metadata": {},
   "outputs": [],
   "source": [
    "precision_system_1 = [1, 1, 1, 0.75, 0.8, 0.67, 0.71, 0.63, 0.67, 0.6]\n",
    "recall_system_1 = [0.07, 0.14, 0.21, 0.21, 0.29, 0.29, 0.36, 0.36, 0.43, 0.43]\n",
    "\n",
    "precision_system_2 = [1, 1, 0.67, 0.75, 0.8, 0.83, 0.86, 0.88, 0.89, 0.9]\n",
    "recall_system_2 = [0.06, 0.12, 0.12, 0.18, 0.24, 0.3, 0.35, 0.41, 0.47, 0.53]"
   ]
  }
 ],
 "metadata": {
  "kernelspec": {
   "display_name": "Python 3.9.12 ('base')",
   "language": "python",
   "name": "python3"
  },
  "language_info": {
   "name": "python",
   "version": "3.9.12"
  },
  "orig_nbformat": 4,
  "vscode": {
   "interpreter": {
    "hash": "e80415699feada2315bf46794f51dee0b1751584379de21015da5ba3034892b6"
   }
  }
 },
 "nbformat": 4,
 "nbformat_minor": 2
}
