{
 "cells": [
  {
   "cell_type": "code",
   "execution_count": 7,
   "metadata": {},
   "outputs": [],
   "source": [
    "import pandas as pd\n",
    "import random\n",
    "import re\n",
    "from textblob import TextBlob"
   ]
  },
  {
   "cell_type": "code",
   "execution_count": 10,
   "metadata": {},
   "outputs": [],
   "source": [
    "# df = pd.read_csv('datasets/final_data.csv')\n",
    "# df.head()\n",
    "\n",
    "initial_reviews = pd.read_csv('datasets/reviews_table.csv')\n",
    "scraper_reviews = pd.read_csv('datasets/scraping/reviews.csv')\n",
    "\n",
    "total_reviews = {}\n",
    "\n",
    "total_good_reviews = {}\n",
    "\n",
    "total_bad_reviews = {}\n",
    "\n",
    "emoji_pattern = re.compile(\"[\"\n",
    "        u\"\\U0001F600-\\U0001F64F\"  # emoticons\n",
    "        u\"\\U0001F300-\\U0001F5FF\"  # symbols & pictographs\n",
    "        u\"\\U0001F680-\\U0001F6FF\"  # transport & map symbols\n",
    "        u\"\\U0001F1E0-\\U0001F1FF\"  # flags (iOS)\n",
    "                           \"]+\", flags=re.UNICODE)\n",
    "\n",
    "# Getting reviews from scraper_reviews\n",
    "for index_scraper, row_scraper in scraper_reviews.iterrows():\n",
    "    sentiment_polarity = TextBlob(row_scraper.review).sentiment.polarity\n",
    "    if(sentiment_polarity == 0):\n",
    "        sentiment_polarity = random.uniform(-0.1, 0.1)\n",
    "    \n",
    "    if sentiment_polarity > 0:\n",
    "        if row_scraper.restaurant_id in total_good_reviews:\n",
    "            total_good_reviews[row_scraper.restaurant_id].append(emoji_pattern.sub(r'', row_scraper.review))\n",
    "        else:\n",
    "            total_good_reviews[row_scraper.restaurant_id] = [emoji_pattern.sub(r'', row_scraper.review)]\n",
    "    elif sentiment_polarity < 0:\n",
    "        if row_scraper.restaurant_id in total_bad_reviews:\n",
    "            total_bad_reviews[row_scraper.restaurant_id].append(emoji_pattern.sub(r'', row_scraper.review))\n",
    "        else:\n",
    "            total_bad_reviews[row_scraper.restaurant_id] = [emoji_pattern.sub(r'', row_scraper.review)]\n",
    "\n",
    "    if row_scraper.restaurant_id in total_reviews:\n",
    "        total_reviews[row_scraper.restaurant_id].append(emoji_pattern.sub(r'', row_scraper.review))\n",
    "    else:\n",
    "        total_reviews[row_scraper.restaurant_id] = [emoji_pattern.sub(r'', row_scraper.review)]\n",
    "\n",
    "# Getting reviews from initial_reviews\n",
    "for index_initial, row_initial in initial_reviews.iterrows():\n",
    "    if not row_initial.review == ', ': # Some reviews are empty\n",
    "        sentiment_polarity = TextBlob(row_scraper.review).sentiment.polarity\n",
    "        if(sentiment_polarity == 0):\n",
    "            sentiment_polarity = random.uniform(-0.1, 0.1)\n",
    "    \n",
    "        if sentiment_polarity > 0:\n",
    "            if row_scraper.restaurant_id in total_good_reviews:\n",
    "                total_good_reviews[row_scraper.restaurant_id].append(emoji_pattern.sub(r'', row_scraper.review))\n",
    "            else:\n",
    "                total_good_reviews[row_scraper.restaurant_id] = [emoji_pattern.sub(r'', row_scraper.review)]\n",
    "        elif sentiment_polarity < 0:\n",
    "            if row_scraper.restaurant_id in total_bad_reviews:\n",
    "                total_bad_reviews[row_scraper.restaurant_id].append(emoji_pattern.sub(r'', row_scraper.review))\n",
    "            else:\n",
    "                total_bad_reviews[row_scraper.restaurant_id] = [emoji_pattern.sub(r'', row_scraper.review)]\n",
    "\n",
    "        if row_initial.restaurant_id in total_reviews:\n",
    "            total_reviews[row_initial.restaurant_id].append(row_initial.review)\n",
    "        else:\n",
    "            total_reviews[row_initial.restaurant_id] = [row_initial.review]\n",
    "\n",
    "# print(total_reviews)"
   ]
  }
 ],
 "metadata": {
  "kernelspec": {
   "display_name": "Python 3.9.12 ('base')",
   "language": "python",
   "name": "python3"
  },
  "language_info": {
   "codemirror_mode": {
    "name": "ipython",
    "version": 3
   },
   "file_extension": ".py",
   "mimetype": "text/x-python",
   "name": "python",
   "nbconvert_exporter": "python",
   "pygments_lexer": "ipython3",
   "version": "3.9.12"
  },
  "orig_nbformat": 4,
  "vscode": {
   "interpreter": {
    "hash": "e80415699feada2315bf46794f51dee0b1751584379de21015da5ba3034892b6"
   }
  }
 },
 "nbformat": 4,
 "nbformat_minor": 2
}
