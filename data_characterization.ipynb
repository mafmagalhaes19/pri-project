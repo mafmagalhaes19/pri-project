{
 "cells": [
  {
   "cell_type": "code",
   "execution_count": null,
   "metadata": {},
   "outputs": [],
   "source": []
  }
 ],
 "metadata": {
  "kernelspec": {
   "display_name": "Python 3.9.12 ('base')",
   "language": "python",
   "name": "python3"
  },
  "language_info": {
   "name": "python",
   "version": "3.9.12"
  },
  "orig_nbformat": 4,
  "vscode": {
   "interpreter": {
    "hash": "e80415699feada2315bf46794f51dee0b1751584379de21015da5ba3034892b6"
   }
  }
 },
 "nbformat": 4,
 "nbformat_minor": 2
}
